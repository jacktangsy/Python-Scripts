{
 "cells": [
  {
   "cell_type": "markdown",
   "id": "70ede357",
   "metadata": {},
   "source": [
    "## Importing Sympy"
   ]
  },
  {
   "cell_type": "code",
   "execution_count": 1,
   "id": "ca34c4c6",
   "metadata": {},
   "outputs": [],
   "source": [
    "from sympy import *\n",
    "\n",
    "# init_printing()不能用，否则要等一万年才能输出"
   ]
  },
  {
   "cell_type": "markdown",
   "id": "8e5c6296",
   "metadata": {},
   "source": [
    "## Symbols"
   ]
  },
  {
   "cell_type": "code",
   "execution_count": 2,
   "id": "9bd3f6f8",
   "metadata": {},
   "outputs": [
    {
     "data": {
      "text/plain": [
       "True"
      ]
     },
     "execution_count": 2,
     "metadata": {},
     "output_type": "execute_result"
    }
   ],
   "source": [
    "x = Symbol(\"x\")\n",
    "x.is_real is None"
   ]
  },
  {
   "cell_type": "code",
   "execution_count": 3,
   "id": "94f7b6a9",
   "metadata": {},
   "outputs": [
    {
     "data": {
      "text/plain": [
       "(True, False)"
      ]
     },
     "execution_count": 3,
     "metadata": {},
     "output_type": "execute_result"
    }
   ],
   "source": [
    "y = Symbol(\"y\", real=True)\n",
    "y.is_real, y.is_imaginary"
   ]
  },
  {
   "cell_type": "code",
   "execution_count": 4,
   "id": "61d591c4",
   "metadata": {},
   "outputs": [
    {
     "data": {
      "text/plain": [
       "(False, True)"
      ]
     },
     "execution_count": 4,
     "metadata": {},
     "output_type": "execute_result"
    }
   ],
   "source": [
    "Symbol(\"z\", imaginary=True).is_real, Symbol(\"z\", imaginary=True).is_finite"
   ]
  },
  {
   "cell_type": "code",
   "execution_count": 5,
   "id": "80e411bd",
   "metadata": {},
   "outputs": [],
   "source": [
    "x = Symbol(\"x\")\n",
    "y = Symbol(\"y\", positive=True)"
   ]
  },
  {
   "cell_type": "code",
   "execution_count": 6,
   "id": "3234a9b4",
   "metadata": {},
   "outputs": [
    {
     "data": {
      "text/latex": [
       "$\\displaystyle \\sqrt{x^{2}}$"
      ],
      "text/plain": [
       "sqrt(x**2)"
      ]
     },
     "execution_count": 6,
     "metadata": {},
     "output_type": "execute_result"
    }
   ],
   "source": [
    "sqrt(x**2)"
   ]
  },
  {
   "cell_type": "code",
   "execution_count": 7,
   "id": "b0954a17",
   "metadata": {},
   "outputs": [
    {
     "data": {
      "text/latex": [
       "$\\displaystyle y$"
      ],
      "text/plain": [
       "y"
      ]
     },
     "execution_count": 7,
     "metadata": {},
     "output_type": "execute_result"
    }
   ],
   "source": [
    "sqrt(y**2)"
   ]
  },
  {
   "cell_type": "code",
   "execution_count": 8,
   "id": "ba7489a3",
   "metadata": {},
   "outputs": [],
   "source": [
    "n1 = Symbol(\"n\")\n",
    "n2 = Symbol(\"n\", integer=True)\n",
    "n3 = Symbol(\"n\", odd=True)"
   ]
  },
  {
   "cell_type": "code",
   "execution_count": 9,
   "id": "3ca61ff2",
   "metadata": {},
   "outputs": [
    {
     "data": {
      "text/latex": [
       "$\\displaystyle \\cos{\\left(\\pi n \\right)}$"
      ],
      "text/plain": [
       "cos(pi*n)"
      ]
     },
     "execution_count": 9,
     "metadata": {},
     "output_type": "execute_result"
    }
   ],
   "source": [
    "cos(n1*pi)"
   ]
  },
  {
   "cell_type": "code",
   "execution_count": 10,
   "id": "8a1b876a",
   "metadata": {},
   "outputs": [
    {
     "data": {
      "text/latex": [
       "$\\displaystyle \\left(-1\\right)^{n}$"
      ],
      "text/plain": [
       "(-1)**n"
      ]
     },
     "execution_count": 10,
     "metadata": {},
     "output_type": "execute_result"
    }
   ],
   "source": [
    "cos(n2*pi)"
   ]
  },
  {
   "cell_type": "code",
   "execution_count": 11,
   "id": "de919f4a",
   "metadata": {},
   "outputs": [
    {
     "data": {
      "text/latex": [
       "$\\displaystyle -1$"
      ],
      "text/plain": [
       "-1"
      ]
     },
     "execution_count": 11,
     "metadata": {},
     "output_type": "execute_result"
    }
   ],
   "source": [
    "cos(n3*pi)"
   ]
  },
  {
   "cell_type": "markdown",
   "id": "8932ba3d",
   "metadata": {},
   "source": [
    "Creating multiple symbols in one function call is allowed."
   ]
  },
  {
   "cell_type": "code",
   "execution_count": 12,
   "id": "477ea8b0",
   "metadata": {},
   "outputs": [
    {
     "data": {
      "text/plain": [
       "(True, False)"
      ]
     },
     "execution_count": 12,
     "metadata": {},
     "output_type": "execute_result"
    }
   ],
   "source": [
    "a, b, c = symbols(\"a, b, c\", positive=True)\n",
    "\n",
    "a.is_real, b.is_negative"
   ]
  },
  {
   "cell_type": "markdown",
   "id": "5715da79",
   "metadata": {},
   "source": [
    "### Numbers"
   ]
  },
  {
   "cell_type": "code",
   "execution_count": 13,
   "id": "956707e9",
   "metadata": {},
   "outputs": [
    {
     "data": {
      "text/plain": [
       "(sympy.core.numbers.Integer, True, True, True)"
      ]
     },
     "execution_count": 13,
     "metadata": {},
     "output_type": "execute_result"
    }
   ],
   "source": [
    "i = Integer(19)\n",
    "\n",
    "type(i), i.is_integer, i.is_real, i.is_odd"
   ]
  },
  {
   "cell_type": "code",
   "execution_count": 14,
   "id": "3b92e27f",
   "metadata": {},
   "outputs": [
    {
     "data": {
      "text/plain": [
       "(sympy.core.numbers.Float, False, True, False)"
      ]
     },
     "execution_count": 14,
     "metadata": {},
     "output_type": "execute_result"
    }
   ],
   "source": [
    "f = Float(2.3)\n",
    "\n",
    "type(f), f.is_integer, f.is_real, f.is_odd"
   ]
  },
  {
   "cell_type": "code",
   "execution_count": 15,
   "id": "6eb8bc5a",
   "metadata": {},
   "outputs": [
    {
     "data": {
      "text/plain": [
       "(sympy.core.numbers.Integer, sympy.core.numbers.Float)"
      ]
     },
     "execution_count": 15,
     "metadata": {},
     "output_type": "execute_result"
    }
   ],
   "source": [
    "i, f = sympify(19), sympify(2.3)\n",
    "\n",
    "type(i), type(f)"
   ]
  },
  {
   "cell_type": "markdown",
   "id": "ade6e2d0",
   "metadata": {},
   "source": [
    "### Integer"
   ]
  },
  {
   "cell_type": "markdown",
   "id": "a87485ac",
   "metadata": {},
   "source": [
    "- Attributes with names in the form of **is_Name** indicate if the object is of type Name\n",
    "\n",
    "- Attributes with names in the form of **is_name** indicate if the object is known to satisfy the condition name\n",
    "\n",
    "Specially, there is an attribute **is_Symbol** that is True for all the Symbol instances."
   ]
  },
  {
   "cell_type": "code",
   "execution_count": 16,
   "id": "35273979",
   "metadata": {},
   "outputs": [
    {
     "data": {
      "text/plain": [
       "(True, False, None, True)"
      ]
     },
     "execution_count": 16,
     "metadata": {},
     "output_type": "execute_result"
    }
   ],
   "source": [
    "n = Symbol(\"n\", integer=True)\n",
    "\n",
    "n.is_integer, n.is_Integer, n.is_positive, n.is_Symbol "
   ]
  },
  {
   "cell_type": "code",
   "execution_count": 17,
   "id": "d3450c1e",
   "metadata": {},
   "outputs": [
    {
     "data": {
      "text/plain": [
       "(True, True, True, False)"
      ]
     },
     "execution_count": 17,
     "metadata": {},
     "output_type": "execute_result"
    }
   ],
   "source": [
    "f = Integer(19)\n",
    "\n",
    "f.is_integer, f.is_Integer, f.is_positive, f.is_Symbol "
   ]
  },
  {
   "cell_type": "markdown",
   "id": "b525dafd",
   "metadata": {},
   "source": [
    "Integers in Sympy are arbitrary precision. Therefore, it's possible to work with very large numbers."
   ]
  },
  {
   "cell_type": "code",
   "execution_count": 18,
   "id": "16dfbd12",
   "metadata": {},
   "outputs": [
    {
     "data": {
      "text/latex": [
       "$\\displaystyle 8663234049605954426644038200675212212900743262211018069459689001$"
      ],
      "text/plain": [
       "8663234049605954426644038200675212212900743262211018069459689001"
      ]
     },
     "execution_count": 18,
     "metadata": {},
     "output_type": "execute_result"
    }
   ],
   "source": [
    "i ** 50"
   ]
  },
  {
   "cell_type": "code",
   "execution_count": 19,
   "id": "3baf0ce1",
   "metadata": {},
   "outputs": [
    {
     "data": {
      "text/latex": [
       "$\\displaystyle 8320987112741390144276341183223364380754172606361245952449277696409600000000000000$"
      ],
      "text/plain": [
       "8320987112741390144276341183223364380754172606361245952449277696409600000000000000"
      ]
     },
     "execution_count": 19,
     "metadata": {},
     "output_type": "execute_result"
    }
   ],
   "source": [
    "factorial(60)"
   ]
  },
  {
   "cell_type": "markdown",
   "id": "c6463c0c",
   "metadata": {},
   "source": [
    "### Float"
   ]
  },
  {
   "cell_type": "markdown",
   "id": "c46b9034",
   "metadata": {},
   "source": [
    "Like Integer, Float is arbitrary precision."
   ]
  },
  {
   "cell_type": "code",
   "execution_count": 20,
   "id": "a3208f3d",
   "metadata": {},
   "outputs": [
    {
     "data": {
      "text/plain": [
       "'0.2999999999999999888977698'"
      ]
     },
     "execution_count": 20,
     "metadata": {},
     "output_type": "execute_result"
    }
   ],
   "source": [
    "\"%.25f\" % 0.3 # create a string string representation with 25 decimals"
   ]
  },
  {
   "cell_type": "code",
   "execution_count": 21,
   "id": "bbe2f6e2",
   "metadata": {},
   "outputs": [
    {
     "data": {
      "text/latex": [
       "$\\displaystyle 0.2999999999999999888977698$"
      ],
      "text/plain": [
       "0.2999999999999999888977698"
      ]
     },
     "execution_count": 21,
     "metadata": {},
     "output_type": "execute_result"
    }
   ],
   "source": [
    "Float(0.3, 25)"
   ]
  },
  {
   "cell_type": "code",
   "execution_count": 22,
   "id": "82225d4e",
   "metadata": {},
   "outputs": [
    {
     "data": {
      "text/latex": [
       "$\\displaystyle 0.3$"
      ],
      "text/plain": [
       "0.3000000000000000000000000"
      ]
     },
     "execution_count": 22,
     "metadata": {},
     "output_type": "execute_result"
    }
   ],
   "source": [
    "Float('0.3', 25)"
   ]
  },
  {
   "cell_type": "markdown",
   "id": "8ece2c0a",
   "metadata": {},
   "source": [
    "To correctly represent 0.3 as a Float object, it's necessary to initialize it from a string '0.3' rather than the Python float 0.3, which already contains a floating-point error."
   ]
  },
  {
   "cell_type": "markdown",
   "id": "c82ecb5c",
   "metadata": {},
   "source": [
    "### Rational"
   ]
  },
  {
   "cell_type": "code",
   "execution_count": 23,
   "id": "33b2bdb7",
   "metadata": {},
   "outputs": [
    {
     "data": {
      "text/latex": [
       "$\\displaystyle \\frac{11}{13}$"
      ],
      "text/plain": [
       "11/13"
      ]
     },
     "execution_count": 23,
     "metadata": {},
     "output_type": "execute_result"
    }
   ],
   "source": [
    "Rational(11, 13)"
   ]
  },
  {
   "cell_type": "markdown",
   "id": "fa430462",
   "metadata": {},
   "source": [
    "Arithmetic operations between rationals and integers remain rational."
   ]
  },
  {
   "cell_type": "code",
   "execution_count": 24,
   "id": "b995d904",
   "metadata": {},
   "outputs": [
    {
     "data": {
      "text/latex": [
       "$\\displaystyle \\frac{8}{15}$"
      ],
      "text/plain": [
       "8/15"
      ]
     },
     "execution_count": 24,
     "metadata": {},
     "output_type": "execute_result"
    }
   ],
   "source": [
    "r1 = Rational(2, 3)\n",
    "r2 = Rational(4, 5)\n",
    "\n",
    "r1*r2"
   ]
  },
  {
   "cell_type": "code",
   "execution_count": 25,
   "id": "5608d2fb",
   "metadata": {},
   "outputs": [
    {
     "data": {
      "text/latex": [
       "$\\displaystyle \\frac{5}{6}$"
      ],
      "text/plain": [
       "5/6"
      ]
     },
     "execution_count": 25,
     "metadata": {},
     "output_type": "execute_result"
    }
   ],
   "source": [
    "r1/r2"
   ]
  },
  {
   "cell_type": "markdown",
   "id": "a1bcebc8",
   "metadata": {},
   "source": [
    "### Constants and Special Symbols"
   ]
  },
  {
   "cell_type": "markdown",
   "id": "5a2d9d40",
   "metadata": {},
   "source": [
    "Selected Mathematical Constants and Special Symbols and Their Corresponding Symbols in SymPy\n",
    "\n",
    "|Mathematical Symbol | SymPy Symbol | Description |\n",
    "|:--|:--|:--|\n",
    "|$$\\pi$$ | sympy.pi | Ratio of the circumference to the diameter of a circle. |\n",
    "|$$e$$ | sympy.E | The base of natural logarithm. |\n",
    "|$$\\gamma$$ | sympy.EulerGamma | Euler's Constant. |\n",
    "|$$i$$ | sympy.I | The imaginary unit. |\n",
    "|$$\\infty$$ | sympy.oo | Infinity. |"
   ]
  },
  {
   "cell_type": "markdown",
   "id": "3ec23f3c",
   "metadata": {},
   "source": [
    "### Functions"
   ]
  },
  {
   "cell_type": "markdown",
   "id": "33f7f67e",
   "metadata": {},
   "source": [
    "Objects that represent functions can be created with **sympy.Function**."
   ]
  },
  {
   "cell_type": "code",
   "execution_count": 26,
   "id": "7d92df92",
   "metadata": {},
   "outputs": [
    {
     "data": {
      "text/plain": [
       "sympy.core.function.UndefinedFunction"
      ]
     },
     "execution_count": 26,
     "metadata": {},
     "output_type": "execute_result"
    }
   ],
   "source": [
    "x, y, z = symbols(\"x, y, z\")\n",
    "f = Function(\"f\")\n",
    "\n",
    "type(f)"
   ]
  },
  {
   "cell_type": "code",
   "execution_count": 27,
   "id": "e40f70f8",
   "metadata": {},
   "outputs": [
    {
     "data": {
      "text/latex": [
       "$\\displaystyle f{\\left(x \\right)}$"
      ],
      "text/plain": [
       "f(x)"
      ]
     },
     "execution_count": 27,
     "metadata": {},
     "output_type": "execute_result"
    }
   ],
   "source": [
    "f(x) # apply to the symbol x"
   ]
  },
  {
   "cell_type": "code",
   "execution_count": 28,
   "id": "e2845326",
   "metadata": {},
   "outputs": [
    {
     "data": {
      "text/latex": [
       "$\\displaystyle g{\\left(x,y,z \\right)}$"
      ],
      "text/plain": [
       "g(x, y, z)"
      ]
     },
     "execution_count": 28,
     "metadata": {},
     "output_type": "execute_result"
    }
   ],
   "source": [
    "g = Function(\"g\")(x, y, z) # directly apply to the set of symbols x, y, z unpon creating\n",
    "g"
   ]
  },
  {
   "cell_type": "code",
   "execution_count": 29,
   "id": "26024713",
   "metadata": {},
   "outputs": [
    {
     "data": {
      "text/plain": [
       "{x, y, z}"
      ]
     },
     "execution_count": 29,
     "metadata": {},
     "output_type": "execute_result"
    }
   ],
   "source": [
    "g.free_symbols"
   ]
  },
  {
   "cell_type": "markdown",
   "id": "ee2aa8bf",
   "metadata": {},
   "source": [
    "One important application of undefined functions is for specifying differential equations.\n",
    "\n",
    "A defined function is one that has a specific implementation and can be numerically evaluated for all valid input parameters. In most cases it's sufficient to use the mathematical functions provided by SymPy."
   ]
  },
  {
   "cell_type": "code",
   "execution_count": 30,
   "id": "7fc1c76e",
   "metadata": {},
   "outputs": [
    {
     "data": {
      "text/plain": [
       "sympy.core.function.FunctionClass"
      ]
     },
     "execution_count": 30,
     "metadata": {},
     "output_type": "execute_result"
    }
   ],
   "source": [
    "type(sin)"
   ]
  },
  {
   "cell_type": "code",
   "execution_count": 31,
   "id": "88dc6edb",
   "metadata": {},
   "outputs": [
    {
     "data": {
      "text/latex": [
       "$\\displaystyle \\sin{\\left(x \\right)}$"
      ],
      "text/plain": [
       "sin(x)"
      ]
     },
     "execution_count": 31,
     "metadata": {},
     "output_type": "execute_result"
    }
   ],
   "source": [
    "sin(x)"
   ]
  },
  {
   "cell_type": "code",
   "execution_count": 32,
   "id": "4468696e",
   "metadata": {},
   "outputs": [
    {
     "data": {
      "text/latex": [
       "$\\displaystyle -1$"
      ],
      "text/plain": [
       "-1"
      ]
     },
     "execution_count": 32,
     "metadata": {},
     "output_type": "execute_result"
    }
   ],
   "source": [
    "sin(pi*1.5)"
   ]
  },
  {
   "cell_type": "code",
   "execution_count": 33,
   "id": "e7f1eae5",
   "metadata": {},
   "outputs": [
    {
     "data": {
      "text/latex": [
       "$\\displaystyle 0$"
      ],
      "text/plain": [
       "0"
      ]
     },
     "execution_count": 33,
     "metadata": {},
     "output_type": "execute_result"
    }
   ],
   "source": [
    "sin(pi * Symbol(\"n\", integer=True))"
   ]
  },
  {
   "cell_type": "code",
   "execution_count": 34,
   "id": "2239a397",
   "metadata": {},
   "outputs": [
    {
     "data": {
      "text/latex": [
       "$\\displaystyle \\frac{\\pi}{4}$"
      ],
      "text/plain": [
       "pi/4"
      ]
     },
     "execution_count": 34,
     "metadata": {},
     "output_type": "execute_result"
    }
   ],
   "source": [
    "atan(1)"
   ]
  },
  {
   "cell_type": "code",
   "execution_count": 35,
   "id": "195de8d1",
   "metadata": {},
   "outputs": [
    {
     "data": {
      "text/latex": [
       "$\\displaystyle -1$"
      ],
      "text/plain": [
       "-1"
      ]
     },
     "execution_count": 35,
     "metadata": {},
     "output_type": "execute_result"
    }
   ],
   "source": [
    "cos(pi) + I * sin(pi) # Euler Equation"
   ]
  },
  {
   "cell_type": "markdown",
   "id": "b27d0e40",
   "metadata": {},
   "source": [
    "Lambda functions can be created with **sympy.Lambda**."
   ]
  },
  {
   "cell_type": "code",
   "execution_count": 36,
   "id": "6e18f72b",
   "metadata": {},
   "outputs": [
    {
     "data": {
      "text/latex": [
       "$\\displaystyle \\left( x \\mapsto x^{2} \\right)$"
      ],
      "text/plain": [
       "Lambda(x, x**2)"
      ]
     },
     "execution_count": 36,
     "metadata": {},
     "output_type": "execute_result"
    }
   ],
   "source": [
    "h = Lambda(x, x**2)\n",
    "h"
   ]
  },
  {
   "cell_type": "code",
   "execution_count": 37,
   "id": "49c28b9d",
   "metadata": {},
   "outputs": [
    {
     "data": {
      "text/latex": [
       "$\\displaystyle 9$"
      ],
      "text/plain": [
       "9"
      ]
     },
     "execution_count": 37,
     "metadata": {},
     "output_type": "execute_result"
    }
   ],
   "source": [
    "h(3)"
   ]
  },
  {
   "cell_type": "code",
   "execution_count": 38,
   "id": "30866d3d",
   "metadata": {},
   "outputs": [
    {
     "data": {
      "text/latex": [
       "$\\displaystyle \\left(x + 1\\right)^{2}$"
      ],
      "text/plain": [
       "(x + 1)**2"
      ]
     },
     "execution_count": 38,
     "metadata": {},
     "output_type": "execute_result"
    }
   ],
   "source": [
    "h(1+x)"
   ]
  },
  {
   "cell_type": "code",
   "execution_count": 39,
   "id": "26e2dd20",
   "metadata": {},
   "outputs": [
    {
     "data": {
      "text/latex": [
       "$\\displaystyle x^{8}$"
      ],
      "text/plain": [
       "x**8"
      ]
     },
     "execution_count": 39,
     "metadata": {},
     "output_type": "execute_result"
    }
   ],
   "source": [
    "h(h(h(x)))"
   ]
  },
  {
   "cell_type": "code",
   "execution_count": 40,
   "id": "349b1a8f",
   "metadata": {},
   "outputs": [
    {
     "data": {
      "text/latex": [
       "$\\displaystyle -1$"
      ],
      "text/plain": [
       "-1"
      ]
     },
     "execution_count": 40,
     "metadata": {},
     "output_type": "execute_result"
    }
   ],
   "source": [
    "h(I)"
   ]
  },
  {
   "cell_type": "markdown",
   "id": "17bd2a86",
   "metadata": {},
   "source": [
    "## Expressions"
   ]
  },
  {
   "cell_type": "markdown",
   "id": "49c1d1f1",
   "metadata": {},
   "source": [
    "In SymPy, mathematical expressions are represented as trees:\n",
    "\n",
    "- Leaves are symbols\n",
    "\n",
    "- Nodes are class instances that represent mathematical operations\n",
    "\n",
    "Examples of these classes are **Add**, **Mul**, and **Pow** for basic arithmetic operators and **Sum**, **Product**, **Integral**, and **Derivative** for analytical mathematical operations."
   ]
  },
  {
   "cell_type": "code",
   "execution_count": 41,
   "id": "38312109",
   "metadata": {},
   "outputs": [
    {
     "data": {
      "text/latex": [
       "$\\displaystyle 3 x^{3} + 2 x^{2} + 1$"
      ],
      "text/plain": [
       "3*x**3 + 2*x**2 + 1"
      ]
     },
     "execution_count": 41,
     "metadata": {},
     "output_type": "execute_result"
    }
   ],
   "source": [
    "x = Symbol(\"x\")\n",
    "expr = 1 + 2 * x**2 + 3 * x**3 \n",
    "\n",
    "expr"
   ]
  },
  {
   "cell_type": "markdown",
   "id": "c2f3158e",
   "metadata": {},
   "source": [
    "The expression tree can be traversed explicitly using the **args** attribute. For symbols, the **args** attribute is an empty tuple, which signifies that it is leaf in the expression tree."
   ]
  },
  {
   "cell_type": "code",
   "execution_count": 42,
   "id": "15a60ed6",
   "metadata": {},
   "outputs": [
    {
     "data": {
      "text/plain": [
       "(1, 2*x**2, 3*x**3)"
      ]
     },
     "execution_count": 42,
     "metadata": {},
     "output_type": "execute_result"
    }
   ],
   "source": [
    "expr.args"
   ]
  },
  {
   "cell_type": "code",
   "execution_count": 43,
   "id": "6b4b37ea",
   "metadata": {},
   "outputs": [
    {
     "data": {
      "text/latex": [
       "$\\displaystyle 2 x^{2}$"
      ],
      "text/plain": [
       "2*x**2"
      ]
     },
     "execution_count": 43,
     "metadata": {},
     "output_type": "execute_result"
    }
   ],
   "source": [
    "expr.args[1]"
   ]
  },
  {
   "cell_type": "code",
   "execution_count": 44,
   "id": "bea675ae",
   "metadata": {
    "scrolled": true
   },
   "outputs": [
    {
     "data": {
      "text/latex": [
       "$\\displaystyle x^{2}$"
      ],
      "text/plain": [
       "x**2"
      ]
     },
     "execution_count": 44,
     "metadata": {},
     "output_type": "execute_result"
    }
   ],
   "source": [
    "expr.args[1].args[1]"
   ]
  },
  {
   "cell_type": "code",
   "execution_count": 45,
   "id": "dd7ba900",
   "metadata": {},
   "outputs": [
    {
     "data": {
      "text/latex": [
       "$\\displaystyle x$"
      ],
      "text/plain": [
       "x"
      ]
     },
     "execution_count": 45,
     "metadata": {},
     "output_type": "execute_result"
    }
   ],
   "source": [
    "expr.args[1].args[1].args[0]"
   ]
  },
  {
   "cell_type": "code",
   "execution_count": 46,
   "id": "24bd249f",
   "metadata": {},
   "outputs": [
    {
     "data": {
      "text/plain": [
       "()"
      ]
     },
     "execution_count": 46,
     "metadata": {},
     "output_type": "execute_result"
    }
   ],
   "source": [
    "expr.args[1].args[1].args[0].args"
   ]
  },
  {
   "cell_type": "markdown",
   "id": "398f4453",
   "metadata": {},
   "source": [
    "## Manipulating Expressions"
   ]
  },
  {
   "cell_type": "markdown",
   "id": "013b2a39",
   "metadata": {},
   "source": [
    "Expressions in SymPy should be considered immutable objects."
   ]
  },
  {
   "cell_type": "markdown",
   "id": "85fa7194",
   "metadata": {},
   "source": [
    "### Simplification"
   ]
  },
  {
   "cell_type": "code",
   "execution_count": 47,
   "id": "3c769321",
   "metadata": {},
   "outputs": [
    {
     "data": {
      "text/latex": [
       "$\\displaystyle 2 x^{2} - x \\left(x + 1\\right) - 2 x$"
      ],
      "text/plain": [
       "2*x**2 - x*(x + 1) - 2*x"
      ]
     },
     "execution_count": 47,
     "metadata": {},
     "output_type": "execute_result"
    }
   ],
   "source": [
    "expr = 2 * (x**2 - x) - x * (x + 1)\n",
    "expr"
   ]
  },
  {
   "cell_type": "code",
   "execution_count": 48,
   "id": "85c2a238",
   "metadata": {},
   "outputs": [
    {
     "data": {
      "text/latex": [
       "$\\displaystyle x \\left(x - 3\\right)$"
      ],
      "text/plain": [
       "x*(x - 3)"
      ]
     },
     "execution_count": 48,
     "metadata": {},
     "output_type": "execute_result"
    }
   ],
   "source": [
    "simplify(expr)"
   ]
  },
  {
   "cell_type": "code",
   "execution_count": 49,
   "id": "f7bfe2c7",
   "metadata": {},
   "outputs": [
    {
     "data": {
      "text/latex": [
       "$\\displaystyle x \\left(x - 3\\right)$"
      ],
      "text/plain": [
       "x*(x - 3)"
      ]
     },
     "execution_count": 49,
     "metadata": {},
     "output_type": "execute_result"
    }
   ],
   "source": [
    "expr.simplify()"
   ]
  },
  {
   "cell_type": "code",
   "execution_count": 50,
   "id": "627db2e0",
   "metadata": {},
   "outputs": [
    {
     "data": {
      "text/latex": [
       "$\\displaystyle 2 x^{2} - x \\left(x + 1\\right) - 2 x$"
      ],
      "text/plain": [
       "2*x**2 - x*(x + 1) - 2*x"
      ]
     },
     "execution_count": 50,
     "metadata": {},
     "output_type": "execute_result"
    }
   ],
   "source": [
    "expr"
   ]
  },
  {
   "cell_type": "markdown",
   "id": "24e56621",
   "metadata": {},
   "source": [
    "**simplify(expr)** and **expr.simplify()** return new expression tress and leave the expression **expr** untouched.\n",
    "\n",
    "Trigonometric and power series can also be simplified."
   ]
  },
  {
   "cell_type": "code",
   "execution_count": 51,
   "id": "0a1d30ab",
   "metadata": {},
   "outputs": [
    {
     "data": {
      "text/latex": [
       "$\\displaystyle 2 \\sin{\\left(x \\right)} \\cos{\\left(x \\right)}$"
      ],
      "text/plain": [
       "2*sin(x)*cos(x)"
      ]
     },
     "execution_count": 51,
     "metadata": {},
     "output_type": "execute_result"
    }
   ],
   "source": [
    "expr = 2 * sin(x) * cos(x)\n",
    "expr"
   ]
  },
  {
   "cell_type": "code",
   "execution_count": 52,
   "id": "348ddaad",
   "metadata": {},
   "outputs": [
    {
     "data": {
      "text/latex": [
       "$\\displaystyle \\sin{\\left(2 x \\right)}$"
      ],
      "text/plain": [
       "sin(2*x)"
      ]
     },
     "execution_count": 52,
     "metadata": {},
     "output_type": "execute_result"
    }
   ],
   "source": [
    "simplify(expr)"
   ]
  },
  {
   "cell_type": "code",
   "execution_count": 53,
   "id": "42f539b7",
   "metadata": {},
   "outputs": [
    {
     "data": {
      "text/latex": [
       "$\\displaystyle e^{x} e^{y}$"
      ],
      "text/plain": [
       "exp(x)*exp(y)"
      ]
     },
     "execution_count": 53,
     "metadata": {},
     "output_type": "execute_result"
    }
   ],
   "source": [
    "expr = exp(x) * exp(y)\n",
    "expr"
   ]
  },
  {
   "cell_type": "code",
   "execution_count": 54,
   "id": "7665a426",
   "metadata": {},
   "outputs": [
    {
     "data": {
      "text/latex": [
       "$\\displaystyle e^{x + y}$"
      ],
      "text/plain": [
       "exp(x + y)"
      ]
     },
     "execution_count": 54,
     "metadata": {},
     "output_type": "execute_result"
    }
   ],
   "source": [
    "simplify(expr)"
   ]
  },
  {
   "cell_type": "markdown",
   "id": "1d87da03",
   "metadata": {},
   "source": [
    "Summary of Selected SymPy Functions for Simplifying Expressions\n",
    "| Function | Description |\n",
    "| :-- | :-- |\n",
    "| **sympy.simplify** | Attempt various methods and approaches to obtain a simpler form of a given expression. |\n",
    "| **sympy.trigsimp** | Attempt to simplify an expression using trigonometric identities. |\n",
    "| **sympy.powsimp** | Attempt to simplify an expression using laws of powers. |\n",
    "| **sympy.comsimp** | Simplify combinatorial expressions. |\n",
    "| **sympy.ratsimp** | Simplify an expression by writing on a common denominator. |"
   ]
  },
  {
   "cell_type": "markdown",
   "id": "85ced515",
   "metadata": {},
   "source": [
    "### Expand"
   ]
  },
  {
   "cell_type": "markdown",
   "id": "d6698ff5",
   "metadata": {},
   "source": [
    "The function **sympy.expand** performs a variety of expansions, depending on the values of optional keyword arguments."
   ]
  },
  {
   "cell_type": "code",
   "execution_count": 55,
   "id": "a9cebce6",
   "metadata": {},
   "outputs": [
    {
     "data": {
      "text/latex": [
       "$\\displaystyle \\left(x + 1\\right) \\left(x + 2\\right)$"
      ],
      "text/plain": [
       "(x + 1)*(x + 2)"
      ]
     },
     "execution_count": 55,
     "metadata": {},
     "output_type": "execute_result"
    }
   ],
   "source": [
    "expr = (x+1) * (x+2)\n",
    "simplify(expr)"
   ]
  },
  {
   "cell_type": "code",
   "execution_count": 56,
   "id": "0bc6e7f6",
   "metadata": {},
   "outputs": [
    {
     "data": {
      "text/latex": [
       "$\\displaystyle x^{2} + 3 x + 2$"
      ],
      "text/plain": [
       "x**2 + 3*x + 2"
      ]
     },
     "execution_count": 56,
     "metadata": {},
     "output_type": "execute_result"
    }
   ],
   "source": [
    "expand(expr)"
   ]
  },
  {
   "cell_type": "code",
   "execution_count": 57,
   "id": "8f514920",
   "metadata": {},
   "outputs": [
    {
     "data": {
      "text/latex": [
       "$\\displaystyle x^{2} + 3 x + 2$"
      ],
      "text/plain": [
       "x**2 + 3*x + 2"
      ]
     },
     "execution_count": 57,
     "metadata": {},
     "output_type": "execute_result"
    }
   ],
   "source": [
    "expr.expand()"
   ]
  },
  {
   "cell_type": "markdown",
   "id": "a32dd5b6",
   "metadata": {},
   "source": [
    "- **mul=True** for expanding products\n",
    "- **trig=True** for trigonometric expansions\n",
    "- **log=True** for expanding logarithms\n",
    "- **complex=True** for separating real and imaginary parts of an expression\n",
    "- **power_base=True** for expanding the base of a power expression\n",
    "- **power_exp=True** for expanding the exponent of a power expression"
   ]
  },
  {
   "cell_type": "code",
   "execution_count": 58,
   "id": "0704c10f",
   "metadata": {},
   "outputs": [
    {
     "data": {
      "text/latex": [
       "$\\displaystyle \\sin{\\left(x \\right)} \\cos{\\left(y \\right)} + \\sin{\\left(y \\right)} \\cos{\\left(x \\right)}$"
      ],
      "text/plain": [
       "sin(x)*cos(y) + sin(y)*cos(x)"
      ]
     },
     "execution_count": 58,
     "metadata": {},
     "output_type": "execute_result"
    }
   ],
   "source": [
    "sin(x+y).expand(trig=True)"
   ]
  },
  {
   "cell_type": "code",
   "execution_count": 59,
   "id": "b94b4cc6",
   "metadata": {},
   "outputs": [
    {
     "data": {
      "text/latex": [
       "$\\displaystyle \\log{\\left(a \\right)} + \\log{\\left(b \\right)}$"
      ],
      "text/plain": [
       "log(a) + log(b)"
      ]
     },
     "execution_count": 59,
     "metadata": {},
     "output_type": "execute_result"
    }
   ],
   "source": [
    "a, b = symbols(\"a, b\", positive=True)\n",
    "log(a * b).expand(log=True)"
   ]
  },
  {
   "cell_type": "code",
   "execution_count": 60,
   "id": "39daad09",
   "metadata": {},
   "outputs": [
    {
     "data": {
      "text/latex": [
       "$\\displaystyle i e^{a} \\sin{\\left(b \\right)} + e^{a} \\cos{\\left(b \\right)}$"
      ],
      "text/plain": [
       "I*exp(a)*sin(b) + exp(a)*cos(b)"
      ]
     },
     "execution_count": 60,
     "metadata": {},
     "output_type": "execute_result"
    }
   ],
   "source": [
    "exp(a + b*I).expand(complex=True)"
   ]
  },
  {
   "cell_type": "code",
   "execution_count": 61,
   "id": "e47e092d",
   "metadata": {},
   "outputs": [
    {
     "data": {
      "text/latex": [
       "$\\displaystyle a^{x} b^{x}$"
      ],
      "text/plain": [
       "a**x*b**x"
      ]
     },
     "execution_count": 61,
     "metadata": {},
     "output_type": "execute_result"
    }
   ],
   "source": [
    "expand((a*b)**x, power_base=True)"
   ]
  },
  {
   "cell_type": "code",
   "execution_count": 62,
   "id": "77b274be",
   "metadata": {},
   "outputs": [
    {
     "data": {
      "text/latex": [
       "$\\displaystyle e^{a x} e^{- b x}$"
      ],
      "text/plain": [
       "exp(a*x)*exp(-b*x)"
      ]
     },
     "execution_count": 62,
     "metadata": {},
     "output_type": "execute_result"
    }
   ],
   "source": [
    "exp((a-b)*x).expand(power_exp=True)"
   ]
  },
  {
   "cell_type": "markdown",
   "id": "29e47545",
   "metadata": {},
   "source": [
    "### Factor, Collect and Combine"
   ]
  },
  {
   "cell_type": "markdown",
   "id": "157c14e9",
   "metadata": {},
   "source": [
    "The **sympy.factor** function attempts to factor an expression as far as possible and is in some sense opposite to **sympy.expand** with **mul=True**."
   ]
  },
  {
   "cell_type": "code",
   "execution_count": 63,
   "id": "ac1b2aee",
   "metadata": {},
   "outputs": [
    {
     "data": {
      "text/latex": [
       "$\\displaystyle \\left(x - 1\\right) \\left(x + 1\\right)$"
      ],
      "text/plain": [
       "(x - 1)*(x + 1)"
      ]
     },
     "execution_count": 63,
     "metadata": {},
     "output_type": "execute_result"
    }
   ],
   "source": [
    "factor(x**2 - 1)"
   ]
  },
  {
   "cell_type": "code",
   "execution_count": 64,
   "id": "8a705404",
   "metadata": {},
   "outputs": [
    {
     "data": {
      "text/latex": [
       "$\\displaystyle x \\left(\\sin{\\left(z \\right)} + \\cos{\\left(y \\right)}\\right)$"
      ],
      "text/plain": [
       "x*(sin(z) + cos(y))"
      ]
     },
     "execution_count": 64,
     "metadata": {},
     "output_type": "execute_result"
    }
   ],
   "source": [
    "factor(x*cos(y) + sin(z)*x)"
   ]
  },
  {
   "cell_type": "code",
   "execution_count": 65,
   "id": "abb7ceea",
   "metadata": {},
   "outputs": [
    {
     "data": {
      "text/latex": [
       "$\\displaystyle \\log{\\left(\\frac{a}{b} \\right)}$"
      ],
      "text/plain": [
       "log(a/b)"
      ]
     },
     "execution_count": 65,
     "metadata": {},
     "output_type": "execute_result"
    }
   ],
   "source": [
    "logcombine(log(a)-log(b))"
   ]
  },
  {
   "cell_type": "code",
   "execution_count": 66,
   "id": "4fc96c95",
   "metadata": {},
   "outputs": [],
   "source": [
    "expr = x + y + x*y*z"
   ]
  },
  {
   "cell_type": "code",
   "execution_count": 67,
   "id": "0595d8be",
   "metadata": {},
   "outputs": [
    {
     "data": {
      "text/latex": [
       "$\\displaystyle x \\left(y z + 1\\right) + y$"
      ],
      "text/plain": [
       "x*(y*z + 1) + y"
      ]
     },
     "execution_count": 67,
     "metadata": {},
     "output_type": "execute_result"
    }
   ],
   "source": [
    "expr.collect(x)"
   ]
  },
  {
   "cell_type": "code",
   "execution_count": 68,
   "id": "af443d61",
   "metadata": {},
   "outputs": [
    {
     "data": {
      "text/latex": [
       "$\\displaystyle x + y \\left(x z + 1\\right)$"
      ],
      "text/plain": [
       "x + y*(x*z + 1)"
      ]
     },
     "execution_count": 68,
     "metadata": {},
     "output_type": "execute_result"
    }
   ],
   "source": [
    "expr.collect(y)"
   ]
  },
  {
   "cell_type": "markdown",
   "id": "6aeb0dad",
   "metadata": {},
   "source": [
    "It is possible to chain multiple method calls in the following way:"
   ]
  },
  {
   "cell_type": "code",
   "execution_count": 69,
   "id": "0353e76c",
   "metadata": {},
   "outputs": [],
   "source": [
    "expr = cos(x+y) + sin(x-y)"
   ]
  },
  {
   "cell_type": "code",
   "execution_count": 70,
   "id": "467c3d9b",
   "metadata": {},
   "outputs": [
    {
     "data": {
      "text/latex": [
       "$\\displaystyle \\left(\\sin{\\left(x \\right)} + \\cos{\\left(x \\right)}\\right) \\left(- \\sin{\\left(y \\right)} + \\cos{\\left(y \\right)}\\right)$"
      ],
      "text/plain": [
       "(sin(x) + cos(x))*(-sin(y) + cos(y))"
      ]
     },
     "execution_count": 70,
     "metadata": {},
     "output_type": "execute_result"
    }
   ],
   "source": [
    "expr.expand(trig=True).collect([cos(x), sin(x)]).collect(-sin(y)+cos(y))"
   ]
  },
  {
   "cell_type": "code",
   "execution_count": 71,
   "id": "e5d387b4",
   "metadata": {},
   "outputs": [
    {
     "data": {
      "text/latex": [
       "$\\displaystyle 2 \\sin{\\left(x + \\frac{\\pi}{4} \\right)} \\cos{\\left(y + \\frac{\\pi}{4} \\right)}$"
      ],
      "text/plain": [
       "2*sin(x + pi/4)*cos(y + pi/4)"
      ]
     },
     "execution_count": 71,
     "metadata": {},
     "output_type": "execute_result"
    }
   ],
   "source": [
    "expr.expand(trig=True).collect([cos(x), sin(x)]).collect(-sin(y)+cos(y)).simplify()"
   ]
  },
  {
   "cell_type": "markdown",
   "id": "843b34d5",
   "metadata": {},
   "source": [
    "### Apart, Together and Cancel"
   ]
  },
  {
   "cell_type": "markdown",
   "id": "b71a0536",
   "metadata": {},
   "source": [
    "The functions **sympy.apart** and **sympy.together**, which, respectively, rewrite a fraction as a partial fraction and combine partial fractions to a single fraction."
   ]
  },
  {
   "cell_type": "code",
   "execution_count": 72,
   "id": "2f1645f2",
   "metadata": {},
   "outputs": [
    {
     "data": {
      "text/latex": [
       "$\\displaystyle - \\frac{1}{x + 2} + \\frac{1}{x + 1}$"
      ],
      "text/plain": [
       "-1/(x + 2) + 1/(x + 1)"
      ]
     },
     "execution_count": 72,
     "metadata": {},
     "output_type": "execute_result"
    }
   ],
   "source": [
    "apart(1/(x**2 + 3*x + 2), x)"
   ]
  },
  {
   "cell_type": "code",
   "execution_count": 73,
   "id": "72223bbd",
   "metadata": {},
   "outputs": [
    {
     "data": {
      "text/latex": [
       "$\\displaystyle \\frac{y + 1}{y \\left(x + 1\\right)}$"
      ],
      "text/plain": [
       "(y + 1)/(y*(x + 1))"
      ]
     },
     "execution_count": 73,
     "metadata": {},
     "output_type": "execute_result"
    }
   ],
   "source": [
    "together(1/(y*x+y) + 1/(1+x))"
   ]
  },
  {
   "cell_type": "code",
   "execution_count": 74,
   "id": "d03f63d2",
   "metadata": {},
   "outputs": [
    {
     "data": {
      "text/latex": [
       "$\\displaystyle \\frac{1}{x + 1}$"
      ],
      "text/plain": [
       "1/(x + 1)"
      ]
     },
     "execution_count": 74,
     "metadata": {},
     "output_type": "execute_result"
    }
   ],
   "source": [
    "cancel(y/(y*x+y))"
   ]
  },
  {
   "cell_type": "markdown",
   "id": "718465a6",
   "metadata": {},
   "source": [
    "### Substitutions"
   ]
  },
  {
   "cell_type": "markdown",
   "id": "b2869dc0",
   "metadata": {},
   "source": [
    "In SymPy, there are two methods for carrying out substitutions:\n",
    "- **subs**\n",
    "- **replace**\n",
    "\n",
    "In the most basic use of **subs**, the first argument is to be replaced."
   ]
  },
  {
   "cell_type": "code",
   "execution_count": 75,
   "id": "c50e26fb",
   "metadata": {},
   "outputs": [
    {
     "data": {
      "text/latex": [
       "$\\displaystyle 2 y$"
      ],
      "text/plain": [
       "2*y"
      ]
     },
     "execution_count": 75,
     "metadata": {},
     "output_type": "execute_result"
    }
   ],
   "source": [
    "(x+y).subs(x, y)"
   ]
  },
  {
   "cell_type": "code",
   "execution_count": 76,
   "id": "c9261780",
   "metadata": {},
   "outputs": [
    {
     "data": {
      "text/latex": [
       "$\\displaystyle \\sin{\\left(y e^{y} \\right)}$"
      ],
      "text/plain": [
       "sin(y*exp(y))"
      ]
     },
     "execution_count": 76,
     "metadata": {},
     "output_type": "execute_result"
    }
   ],
   "source": [
    "sin(x * exp(x)).subs(x, y)"
   ]
  },
  {
   "cell_type": "markdown",
   "id": "6ab89ee2",
   "metadata": {},
   "source": [
    "Passing a dictionary is allowed."
   ]
  },
  {
   "cell_type": "code",
   "execution_count": 77,
   "id": "7390d3fc",
   "metadata": {},
   "outputs": [
    {
     "data": {
      "text/latex": [
       "$\\displaystyle \\cos{\\left(y e^{y} \\right)}$"
      ],
      "text/plain": [
       "cos(y*exp(y))"
      ]
     },
     "execution_count": 77,
     "metadata": {},
     "output_type": "execute_result"
    }
   ],
   "source": [
    "sin(x * z).subs({z: exp(y), x: y, sin: cos})"
   ]
  },
  {
   "cell_type": "markdown",
   "id": "71d446b1",
   "metadata": {},
   "source": [
    "A typical application of the **subs** method is to substitute numerical values in place of symbols, for numerical evaluation."
   ]
  },
  {
   "cell_type": "code",
   "execution_count": 78,
   "id": "e6c6ea03",
   "metadata": {},
   "outputs": [],
   "source": [
    "expr = x * y + z**2 * x\n",
    "values = {x: 1.25, y: 0.4, z: 3.2}"
   ]
  },
  {
   "cell_type": "code",
   "execution_count": 79,
   "id": "e78ae5df",
   "metadata": {},
   "outputs": [
    {
     "data": {
      "text/latex": [
       "$\\displaystyle 13.3$"
      ],
      "text/plain": [
       "13.3000000000000"
      ]
     },
     "execution_count": 79,
     "metadata": {},
     "output_type": "execute_result"
    }
   ],
   "source": [
    "expr.subs(values)"
   ]
  },
  {
   "cell_type": "markdown",
   "id": "dbde06c7",
   "metadata": {},
   "source": [
    "## Numerical Evaluation"
   ]
  },
  {
   "cell_type": "markdown",
   "id": "42db63a1",
   "metadata": {},
   "source": [
    "A SymPy expression can be evaluated using either the **sympy.N** function or the **evalf** method of SymPy expression instances."
   ]
  },
  {
   "cell_type": "code",
   "execution_count": 80,
   "id": "2fde3fa4",
   "metadata": {},
   "outputs": [
    {
     "data": {
      "text/latex": [
       "$\\displaystyle 4.14159265358979$"
      ],
      "text/plain": [
       "4.14159265358979"
      ]
     },
     "execution_count": 80,
     "metadata": {},
     "output_type": "execute_result"
    }
   ],
   "source": [
    "N(1+pi)"
   ]
  },
  {
   "cell_type": "code",
   "execution_count": 81,
   "id": "fed4d71b",
   "metadata": {},
   "outputs": [
    {
     "data": {
      "text/latex": [
       "$\\displaystyle 3.1415926535897932384626433832795028841971693993751$"
      ],
      "text/plain": [
       "3.1415926535897932384626433832795028841971693993751"
      ]
     },
     "execution_count": 81,
     "metadata": {},
     "output_type": "execute_result"
    }
   ],
   "source": [
    "N(pi, 50)"
   ]
  },
  {
   "cell_type": "code",
   "execution_count": 82,
   "id": "06f47bfb",
   "metadata": {},
   "outputs": [
    {
     "data": {
      "text/latex": [
       "$\\displaystyle x + 0.3183098862$"
      ],
      "text/plain": [
       "x + 0.3183098862"
      ]
     },
     "execution_count": 82,
     "metadata": {},
     "output_type": "execute_result"
    }
   ],
   "source": [
    "(x + 1/pi).evalf(10)"
   ]
  },
  {
   "cell_type": "markdown",
   "id": "48927347",
   "metadata": {},
   "source": [
    "When we need to evaluate an expression numerically for a range of input values, we could loop over the values and perform successive **evalf** calls."
   ]
  },
  {
   "cell_type": "code",
   "execution_count": 83,
   "id": "f3b5257a",
   "metadata": {},
   "outputs": [
    {
     "data": {
      "text/plain": [
       "[0, 0.774, 0.642, 0.722, 0.944, 0.205, 0.974, 0.977, -0.870, -0.695]"
      ]
     },
     "execution_count": 83,
     "metadata": {},
     "output_type": "execute_result"
    }
   ],
   "source": [
    "expr = sin(pi * x * exp(x))\n",
    "\n",
    "[expr.subs(x, xx).evalf(3) for xx in range(0, 10)]"
   ]
  },
  {
   "cell_type": "markdown",
   "id": "1496ab8a",
   "metadata": {},
   "source": [
    "SymPy provides a more sufficient method for doing this operation using the function **sympy.lambdify**. This function takes a set of free symbols and an expression as arguments and generates a function that efficiently evaluates the numerical value of the expression."
   ]
  },
  {
   "cell_type": "code",
   "execution_count": 84,
   "id": "7ad25049",
   "metadata": {},
   "outputs": [
    {
     "data": {
      "text/plain": [
       "0.773942685266709"
      ]
     },
     "execution_count": 84,
     "metadata": {},
     "output_type": "execute_result"
    }
   ],
   "source": [
    "expr_func = lambdify(x, expr)\n",
    "\n",
    "expr_func(1.0)"
   ]
  },
  {
   "cell_type": "markdown",
   "id": "18c5601f",
   "metadata": {},
   "source": [
    "SymPy is able to generate functions that are NumPy-array aware: by passing the optional argument '**numpy**' as the third argument to **sympy.lambdify** SymPy creates a vectorized function that accepts NumPy arrays as input."
   ]
  },
  {
   "cell_type": "code",
   "execution_count": 85,
   "id": "9ad83bc2",
   "metadata": {},
   "outputs": [
    {
     "data": {
      "text/plain": [
       "array([ 0.        ,  0.77394269,  0.64198244,  0.72163867,  0.94361635,\n",
       "        0.20523391,  0.97398794,  0.97734066, -0.87034418, -0.69512687])"
      ]
     },
     "execution_count": 85,
     "metadata": {},
     "output_type": "execute_result"
    }
   ],
   "source": [
    "expr_func = lambdify(x, expr, 'numpy')\n",
    "\n",
    "import numpy as np\n",
    "xvalues = np.arange(0, 10)\n",
    "\n",
    "expr_func(xvalues)"
   ]
  },
  {
   "cell_type": "markdown",
   "id": "c2db2413",
   "metadata": {},
   "source": [
    "This method for generating data from SymPy expressions is useful for plotting and many other data-oriented applications."
   ]
  },
  {
   "cell_type": "markdown",
   "id": "4612251a",
   "metadata": {},
   "source": [
    "## Calculus"
   ]
  },
  {
   "cell_type": "markdown",
   "id": "f069dbcf",
   "metadata": {},
   "source": [
    "In this section we look at how to compute derivatives and integrals of functions in SymPy."
   ]
  },
  {
   "cell_type": "markdown",
   "id": "ca1d1d4a",
   "metadata": {},
   "source": [
    "### Derivatives"
   ]
  },
  {
   "cell_type": "markdown",
   "id": "31b8ccfc",
   "metadata": {},
   "source": [
    "In SymPy we can calculate the derivative of a function using **sympy.diff** or alternatively by using the **diff** method of SymPy expression instances."
   ]
  },
  {
   "cell_type": "code",
   "execution_count": 86,
   "id": "b0d842c9",
   "metadata": {},
   "outputs": [],
   "source": [
    "f = Function(\"f\")(x)"
   ]
  },
  {
   "cell_type": "code",
   "execution_count": 87,
   "id": "2d9d08b1",
   "metadata": {},
   "outputs": [
    {
     "data": {
      "text/latex": [
       "$\\displaystyle \\frac{d}{d x} f{\\left(x \\right)}$"
      ],
      "text/plain": [
       "Derivative(f(x), x)"
      ]
     },
     "execution_count": 87,
     "metadata": {},
     "output_type": "execute_result"
    }
   ],
   "source": [
    "diff(f, x) # equivalent to f.diff(x)"
   ]
  },
  {
   "cell_type": "code",
   "execution_count": 88,
   "id": "7f969e14",
   "metadata": {},
   "outputs": [
    {
     "data": {
      "text/latex": [
       "$\\displaystyle 0$"
      ],
      "text/plain": [
       "0"
      ]
     },
     "execution_count": 88,
     "metadata": {},
     "output_type": "execute_result"
    }
   ],
   "source": [
    "diff(f, y)"
   ]
  },
  {
   "cell_type": "code",
   "execution_count": 89,
   "id": "24b14776",
   "metadata": {},
   "outputs": [
    {
     "data": {
      "text/latex": [
       "$\\displaystyle \\frac{d^{2}}{d x^{2}} f{\\left(x \\right)}$"
      ],
      "text/plain": [
       "Derivative(f(x), (x, 2))"
      ]
     },
     "execution_count": 89,
     "metadata": {},
     "output_type": "execute_result"
    }
   ],
   "source": [
    "diff(f, x, x)"
   ]
  },
  {
   "cell_type": "code",
   "execution_count": 90,
   "id": "d5f1b422",
   "metadata": {},
   "outputs": [
    {
     "data": {
      "text/latex": [
       "$\\displaystyle \\frac{d^{3}}{d x^{3}} f{\\left(x \\right)}$"
      ],
      "text/plain": [
       "Derivative(f(x), (x, 3))"
      ]
     },
     "execution_count": 90,
     "metadata": {},
     "output_type": "execute_result"
    }
   ],
   "source": [
    "diff(f, x, 3)"
   ]
  },
  {
   "cell_type": "markdown",
   "id": "f387d812",
   "metadata": {},
   "source": [
    "This method is readily extended to multivariate functions:"
   ]
  },
  {
   "cell_type": "code",
   "execution_count": 91,
   "id": "516c9b17",
   "metadata": {},
   "outputs": [],
   "source": [
    "g = Function(\"g\")(x, y)"
   ]
  },
  {
   "cell_type": "code",
   "execution_count": 92,
   "id": "c0601da0",
   "metadata": {},
   "outputs": [
    {
     "data": {
      "text/latex": [
       "$\\displaystyle \\frac{\\partial^{5}}{\\partial y^{2}\\partial x^{3}} g{\\left(x,y \\right)}$"
      ],
      "text/plain": [
       "Derivative(g(x, y), (x, 3), (y, 2))"
      ]
     },
     "execution_count": 92,
     "metadata": {},
     "output_type": "execute_result"
    }
   ],
   "source": [
    "g.diff(x, 3, y, 2)"
   ]
  },
  {
   "cell_type": "markdown",
   "id": "f507824e",
   "metadata": {},
   "source": [
    "We can also evaluate the derivatives of defined functions and expressions."
   ]
  },
  {
   "cell_type": "code",
   "execution_count": 93,
   "id": "6d038098",
   "metadata": {},
   "outputs": [],
   "source": [
    "expr = x**4 + x**3 + x**2 + x + 1"
   ]
  },
  {
   "cell_type": "code",
   "execution_count": 94,
   "id": "4e3d594d",
   "metadata": {},
   "outputs": [
    {
     "data": {
      "text/latex": [
       "$\\displaystyle 4 x^{3} + 3 x^{2} + 2 x + 1$"
      ],
      "text/plain": [
       "4*x**3 + 3*x**2 + 2*x + 1"
      ]
     },
     "execution_count": 94,
     "metadata": {},
     "output_type": "execute_result"
    }
   ],
   "source": [
    "expr.diff()"
   ]
  },
  {
   "cell_type": "code",
   "execution_count": 95,
   "id": "bafe69e1",
   "metadata": {},
   "outputs": [
    {
     "data": {
      "text/latex": [
       "$\\displaystyle 2 \\cdot \\left(6 x^{2} + 3 x + 1\\right)$"
      ],
      "text/plain": [
       "2*(6*x**2 + 3*x + 1)"
      ]
     },
     "execution_count": 95,
     "metadata": {},
     "output_type": "execute_result"
    }
   ],
   "source": [
    "expr.diff(x, 2)"
   ]
  },
  {
   "cell_type": "code",
   "execution_count": 96,
   "id": "26347a07",
   "metadata": {},
   "outputs": [],
   "source": [
    "expr = (x+1)**3 * y**2 * (z-1)"
   ]
  },
  {
   "cell_type": "code",
   "execution_count": 97,
   "id": "a8935aaf",
   "metadata": {},
   "outputs": [
    {
     "data": {
      "text/latex": [
       "$\\displaystyle 6 y \\left(x + 1\\right)^{2}$"
      ],
      "text/plain": [
       "6*y*(x + 1)**2"
      ]
     },
     "execution_count": 97,
     "metadata": {},
     "output_type": "execute_result"
    }
   ],
   "source": [
    "expr.diff(x, y, z)"
   ]
  },
  {
   "cell_type": "code",
   "execution_count": 98,
   "id": "dbb67cd4",
   "metadata": {},
   "outputs": [],
   "source": [
    "expr = sin(x*y) * cos(x/2)"
   ]
  },
  {
   "cell_type": "code",
   "execution_count": 99,
   "id": "070e054a",
   "metadata": {},
   "outputs": [
    {
     "data": {
      "text/latex": [
       "$\\displaystyle y \\cos{\\left(\\frac{x}{2} \\right)} \\cos{\\left(x y \\right)} - \\frac{\\sin{\\left(\\frac{x}{2} \\right)} \\sin{\\left(x y \\right)}}{2}$"
      ],
      "text/plain": [
       "y*cos(x/2)*cos(x*y) - sin(x/2)*sin(x*y)/2"
      ]
     },
     "execution_count": 99,
     "metadata": {},
     "output_type": "execute_result"
    }
   ],
   "source": [
    "expr.diff(x)"
   ]
  },
  {
   "cell_type": "markdown",
   "id": "b57f4691",
   "metadata": {},
   "source": [
    "Calling **sympy.diff** on an expression directly results in a new expression. If we rather want to symbolically represent the derivative of a definite expression, we can create an instance of the class **sympy.Derivative**, passing the expression as the first argument, followed by the symbols with respect to the derivative that is to be computed:"
   ]
  },
  {
   "cell_type": "code",
   "execution_count": 102,
   "id": "aa5f38d9",
   "metadata": {},
   "outputs": [
    {
     "data": {
      "text/latex": [
       "$\\displaystyle \\frac{d}{d x} e^{\\cos{\\left(x \\right)}}$"
      ],
      "text/plain": [
       "Derivative(exp(cos(x)), x)"
      ]
     },
     "execution_count": 102,
     "metadata": {},
     "output_type": "execute_result"
    }
   ],
   "source": [
    "d = Derivative(exp(cos(x)), x)\n",
    "d"
   ]
  },
  {
   "cell_type": "markdown",
   "id": "f039711d",
   "metadata": {},
   "source": [
    "The formal representation of a derivative can then be evaluated by calling the **doit** method on the **sympy.Derivative** instance:"
   ]
  },
  {
   "cell_type": "code",
   "execution_count": 103,
   "id": "2f5cb2b9",
   "metadata": {},
   "outputs": [
    {
     "data": {
      "text/latex": [
       "$\\displaystyle - e^{\\cos{\\left(x \\right)}} \\sin{\\left(x \\right)}$"
      ],
      "text/plain": [
       "-exp(cos(x))*sin(x)"
      ]
     },
     "execution_count": 103,
     "metadata": {},
     "output_type": "execute_result"
    }
   ],
   "source": [
    "d.doit()"
   ]
  },
  {
   "cell_type": "markdown",
   "id": "e5ad98c8",
   "metadata": {},
   "source": [
    "### Integrals"
   ]
  },
  {
   "cell_type": "code",
   "execution_count": null,
   "id": "609f3337",
   "metadata": {},
   "outputs": [],
   "source": []
  },
  {
   "cell_type": "markdown",
   "id": "220aaf61",
   "metadata": {},
   "source": [
    "### Series"
   ]
  },
  {
   "cell_type": "code",
   "execution_count": null,
   "id": "bb735503",
   "metadata": {},
   "outputs": [],
   "source": []
  },
  {
   "cell_type": "markdown",
   "id": "b05b7a22",
   "metadata": {},
   "source": [
    "### Limits"
   ]
  },
  {
   "cell_type": "code",
   "execution_count": null,
   "id": "e5b4c022",
   "metadata": {},
   "outputs": [],
   "source": []
  },
  {
   "cell_type": "markdown",
   "id": "5e2df836",
   "metadata": {},
   "source": [
    "### Sums and Products"
   ]
  },
  {
   "cell_type": "code",
   "execution_count": 4,
   "id": "16fc05cc",
   "metadata": {},
   "outputs": [
    {
     "data": {
      "text/latex": [
       "$\\displaystyle \\sum_{n=2}^{\\infty} \\frac{2^{1 - n}}{n}$"
      ],
      "text/plain": [
       "Sum(2**(1 - n)/n, (n, 2, oo))"
      ]
     },
     "execution_count": 4,
     "metadata": {},
     "output_type": "execute_result"
    }
   ],
   "source": [
    "n = Symbol(\"n\", integer=True)\n",
    "x = Sum(1 / (n * 2**(n-1)), (n, 2, oo))\n",
    "x"
   ]
  },
  {
   "cell_type": "code",
   "execution_count": 5,
   "id": "7cbd44d6",
   "metadata": {},
   "outputs": [
    {
     "data": {
      "text/latex": [
       "$\\displaystyle -1 + 2 \\log{\\left(2 \\right)}$"
      ],
      "text/plain": [
       "-1 + 2*log(2)"
      ]
     },
     "execution_count": 5,
     "metadata": {},
     "output_type": "execute_result"
    }
   ],
   "source": [
    "x.doit()"
   ]
  },
  {
   "cell_type": "code",
   "execution_count": 11,
   "id": "c3442d03",
   "metadata": {},
   "outputs": [],
   "source": [
    "y = (1 - 1 / (x+3/2) * 7/4).doit()"
   ]
  },
  {
   "cell_type": "code",
   "execution_count": 12,
   "id": "db7d3876",
   "metadata": {},
   "outputs": [
    {
     "data": {
      "text/plain": [
       "0.0722550859129817"
      ]
     },
     "execution_count": 12,
     "metadata": {},
     "output_type": "execute_result"
    }
   ],
   "source": [
    "float(y)"
   ]
  },
  {
   "cell_type": "markdown",
   "id": "1b24efd5",
   "metadata": {},
   "source": [
    "## Equations"
   ]
  },
  {
   "cell_type": "code",
   "execution_count": null,
   "id": "0dbcbc4d",
   "metadata": {},
   "outputs": [],
   "source": []
  },
  {
   "cell_type": "markdown",
   "id": "80d17e90",
   "metadata": {},
   "source": [
    "## Linear Algebra"
   ]
  },
  {
   "cell_type": "code",
   "execution_count": null,
   "id": "71d55be9",
   "metadata": {},
   "outputs": [],
   "source": []
  }
 ],
 "metadata": {
  "kernelspec": {
   "display_name": "Python 3 (ipykernel)",
   "language": "python",
   "name": "python3"
  },
  "language_info": {
   "codemirror_mode": {
    "name": "ipython",
    "version": 3
   },
   "file_extension": ".py",
   "mimetype": "text/x-python",
   "name": "python",
   "nbconvert_exporter": "python",
   "pygments_lexer": "ipython3",
   "version": "3.10.9"
  }
 },
 "nbformat": 4,
 "nbformat_minor": 5
}
